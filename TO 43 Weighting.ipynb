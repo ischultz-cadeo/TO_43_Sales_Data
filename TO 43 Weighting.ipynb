{
 "cells": [
  {
   "cell_type": "code",
   "execution_count": 1,
   "id": "cdfc5863",
   "metadata": {},
   "outputs": [],
   "source": [
    "import pandas as pd\n",
    "import pickle as pkl"
   ]
  },
  {
   "cell_type": "code",
   "execution_count": 2,
   "id": "f778cfbd",
   "metadata": {},
   "outputs": [],
   "source": [
    "all_rows_post = pd.read_pickle('all_rows_post2.pkl')"
   ]
  },
  {
   "cell_type": "code",
   "execution_count": 3,
   "id": "24e9aa85",
   "metadata": {},
   "outputs": [],
   "source": [
    "market_size = pd.read_excel('Extrap_byCZ_HARDI_Adjusted_27JAN2022 - Isaac Copy.xlsx' , sheet_name = 'Market Size', usecols='A:D')\n",
    "sales_mix   = pd.read_pickle('sales_mix.pkl')"
   ]
  },
  {
   "cell_type": "code",
   "execution_count": 4,
   "id": "f45564e4",
   "metadata": {},
   "outputs": [],
   "source": [
    "def get_market_pct_share(self, year, tech):\n",
    "    numer = market_size.loc[(self['Year']== year)  & (self['Technology']== tech),['Quantity']].sum()\n",
    "    denom = market_size.loc[(self['Year']== year),['Quantity']].sum()\n",
    "    return numer/denom"
   ]
  },
  {
   "cell_type": "code",
   "execution_count": 5,
   "id": "4cc635b3",
   "metadata": {},
   "outputs": [],
   "source": [
    "def get_non_weighted_quantity(self, sector, year, tech, htg, clg):\n",
    "    total = all_rows_post.loc[(self['Sector']== sector) & (self['yearSale']== year) & (self['Technology']== tech) & (self['HeatingEfficiency']== htg) & (self['CoolingEfficiency']== clg),['TOTAL']].sum()\n",
    "    return round(total,1)"
   ]
  },
  {
   "cell_type": "code",
   "execution_count": 6,
   "id": "86bfda7d",
   "metadata": {},
   "outputs": [],
   "source": [
    "def get_pct_share(self, year, tech):\n",
    "    numer = self['Quantity']\n",
    "    denom = sales_mix.loc[(self['yearSale']== year) & (self['Technology']== tech),['Quantity']].sum()\n",
    "    return numer/denom"
   ]
  },
  {
   "cell_type": "code",
   "execution_count": 7,
   "id": "1c9ffb86",
   "metadata": {},
   "outputs": [],
   "source": [
    "def get_market_total(self, year, tech):\n",
    "    total = market_size.loc[(self['yearSale'] == year) & (self['Technology']== tech),['Quantity']].sum()\n",
    "    return total"
   ]
  },
  {
   "cell_type": "code",
   "execution_count": 8,
   "id": "590d0c96",
   "metadata": {},
   "outputs": [],
   "source": [
    "def get_non_weighted_non_extrapped(self, sector, year, tech, htg, clg):\n",
    "    total = all_rows_post.loc[(self['Sector']== sector) & (self['yearSale']== year) & (self['Technology']== tech) & (self['HeatingEfficiency']== htg) & (self['CoolingEfficiency']== clg),['Reported Quantity']].sum()\n",
    "    return round(total,1)"
   ]
  },
  {
   "cell_type": "code",
   "execution_count": 9,
   "id": "8f3b97da",
   "metadata": {},
   "outputs": [],
   "source": [
    "def get_non_weighted_extrapped(self, sector, year, tech, htg, clg):\n",
    "    total = all_rows_post.loc[(self['Sector']== sector) & (self['yearSale']== year) & (self['Technology']== tech) & (self['HeatingEfficiency']== htg) & (self['CoolingEfficiency']== clg),['extrapped_qty']].sum()\n",
    "    return round(total,1)"
   ]
  },
  {
   "cell_type": "code",
   "execution_count": 10,
   "id": "160cb9a4",
   "metadata": {},
   "outputs": [],
   "source": [
    "all_rows_post = all_rows_post.replace('NA' , 'UNDEFINED')"
   ]
  },
  {
   "cell_type": "code",
   "execution_count": 11,
   "id": "13f2804f",
   "metadata": {},
   "outputs": [],
   "source": [
    "market_size['TechMix'] = market_size.apply(get_market_pct_share, args=(market_size['Year'], market_size['Technology']), axis=1)"
   ]
  },
  {
   "cell_type": "code",
   "execution_count": 12,
   "id": "f27a028e",
   "metadata": {},
   "outputs": [],
   "source": [
    "sales_mix['Quantity'] = round(sales_mix.apply(get_non_weighted_quantity, args=(all_rows_post['Sector'], all_rows_post['yearSale'], all_rows_post['Technology'], all_rows_post['HeatingEfficiency'] , all_rows_post['CoolingEfficiency']), axis=1),0)\n",
    "sales_mix['%'] = sales_mix.apply(get_pct_share, args=(sales_mix['yearSale'], sales_mix['Technology']), axis=1)\n",
    "sales_mix['Market Total'] = sales_mix.apply(get_market_total, args=(market_size['Year'], market_size['Technology']), axis=1)\n",
    "sales_mix['Revised_Qty'] = round(sales_mix['Market Total'] * sales_mix['%'],0)\n",
    "sales_mix['Non_Extrapped_no_weight'] = round(sales_mix.apply(get_non_weighted_non_extrapped, args=(all_rows_post['Sector'], all_rows_post['yearSale'], all_rows_post['Technology'], all_rows_post['HeatingEfficiency'] , all_rows_post['CoolingEfficiency']), axis=1),0)\n",
    "sales_mix['Extrapped_no_weight'] = round(sales_mix.apply(get_non_weighted_extrapped, args=(all_rows_post['Sector'], all_rows_post['yearSale'], all_rows_post['Technology'], all_rows_post['HeatingEfficiency'] , all_rows_post['CoolingEfficiency']), axis=1),0)"
   ]
  },
  {
   "cell_type": "code",
   "execution_count": 13,
   "id": "ab887ec3",
   "metadata": {},
   "outputs": [],
   "source": [
    "sales_mix['Non_Extrapped_weighted'] = sales_mix['Revised_Qty'] * sales_mix['Non_Extrapped_no_weight'] / sales_mix['Quantity']\n",
    "sales_mix['Extrapped_weighted']     = sales_mix['Revised_Qty'] * sales_mix['Extrapped_no_weight'] / sales_mix['Quantity']"
   ]
  },
  {
   "cell_type": "code",
   "execution_count": 14,
   "id": "fb7a7ce5",
   "metadata": {},
   "outputs": [],
   "source": [
    "key_techs = ['Heat Pump','Heat Pump - Ductless','Central Air Conditioning - Condenser','Gas Furnace']\n",
    "df2_col_names = ['Year','CZ','Sector','Technology','HeatingEfficiency','CoolingEfficiency','Reported Quantity','Extrapolated Quantity','Total']\n",
    "df1_col_names = ['Year','Sector','Technology','HeatingEfficiency','CoolingEfficiency','Total','Reported Quantity','Extrapolated Quantity','CZ']"
   ]
  },
  {
   "cell_type": "code",
   "execution_count": 15,
   "id": "8d46b60a",
   "metadata": {},
   "outputs": [],
   "source": [
    "sales_mix['CZ'] = \"\"\n",
    "df1 = sales_mix.drop(['Quantity','%','Market Total','Non_Extrapped_no_weight','Extrapped_no_weight'],axis=1)\n",
    "df1.columns = df1_col_names"
   ]
  },
  {
   "cell_type": "code",
   "execution_count": 16,
   "id": "255b7ce1",
   "metadata": {},
   "outputs": [],
   "source": [
    "df3 = all_rows_post[~all_rows_post['Technology'].isin(key_techs)]\n",
    "df4 = all_rows_post[(all_rows_post['Sector'] == 'Non-residential')&(all_rows_post['Technology'].isin(key_techs))]\n",
    "df2 = pd.concat([df3,df4] , axis=0)"
   ]
  },
  {
   "cell_type": "code",
   "execution_count": 17,
   "id": "2a166737",
   "metadata": {},
   "outputs": [
    {
     "name": "stderr",
     "output_type": "stream",
     "text": [
      "C:\\Users\\ISAACS~1\\AppData\\Local\\Temp/ipykernel_30740/4173003949.py:1: FutureWarning: Indexing with multiple keys (implicitly converted to a tuple of keys) will be deprecated, use a list instead.\n",
      "  df2=df2.groupby(['yearSale','CZ','Sector','Technology','HeatingEfficiency','CoolingEfficiency'])['Reported Quantity','extrapped_qty','TOTAL'].sum().reset_index()\n"
     ]
    }
   ],
   "source": [
    "df2=df2.groupby(['yearSale','CZ','Sector','Technology','HeatingEfficiency','CoolingEfficiency'])['Reported Quantity','extrapped_qty','TOTAL'].sum().reset_index()"
   ]
  },
  {
   "cell_type": "code",
   "execution_count": 18,
   "id": "c07138d4",
   "metadata": {},
   "outputs": [],
   "source": [
    "df2.columns=df2_col_names"
   ]
  },
  {
   "cell_type": "code",
   "execution_count": 19,
   "id": "87c89ea5",
   "metadata": {},
   "outputs": [],
   "source": [
    "all_rows_weighted = pd.concat([df1,df2] , axis=0)"
   ]
  },
  {
   "cell_type": "code",
   "execution_count": 20,
   "id": "595609c2",
   "metadata": {},
   "outputs": [],
   "source": [
    "weighted_quantites = all_rows_weighted.groupby(['Year','Technology'])['Total'].sum().reset_index()\n",
    "weighted_quantites2 = all_rows_weighted[all_rows_weighted['Sector'] == 'Residential']\n",
    "weighted_quantites2 = weighted_quantites2.groupby(['Year','Technology'])['Total'].sum().reset_index()"
   ]
  },
  {
   "cell_type": "code",
   "execution_count": 21,
   "id": "aa4a7211",
   "metadata": {},
   "outputs": [],
   "source": [
    "weighted_quantites.to_csv('All Technologies (weighted).csv')\n",
    "weighted_quantites2.to_csv('All Res Technologies (weighted).csv')"
   ]
  },
  {
   "cell_type": "code",
   "execution_count": 22,
   "id": "dd57c661",
   "metadata": {},
   "outputs": [
    {
     "name": "stderr",
     "output_type": "stream",
     "text": [
      "C:\\Users\\IsaacSchultz\\anaconda3\\lib\\site-packages\\pandas\\core\\indexing.py:1681: SettingWithCopyWarning: \n",
      "A value is trying to be set on a copy of a slice from a DataFrame.\n",
      "Try using .loc[row_indexer,col_indexer] = value instead\n",
      "\n",
      "See the caveats in the documentation: https://pandas.pydata.org/pandas-docs/stable/user_guide/indexing.html#returning-a-view-versus-a-copy\n",
      "  self.obj[key] = empty_value\n",
      "C:\\Users\\IsaacSchultz\\anaconda3\\lib\\site-packages\\pandas\\core\\indexing.py:1773: SettingWithCopyWarning: \n",
      "A value is trying to be set on a copy of a slice from a DataFrame.\n",
      "Try using .loc[row_indexer,col_indexer] = value instead\n",
      "\n",
      "See the caveats in the documentation: https://pandas.pydata.org/pandas-docs/stable/user_guide/indexing.html#returning-a-view-versus-a-copy\n",
      "  self._setitem_single_column(ilocs[0], value, pi)\n"
     ]
    }
   ],
   "source": [
    "res  = all_rows_weighted[all_rows_weighted['Sector'] == 'Residential']\n",
    "res1 = res[(res['Technology'] == 'Heat Pump - Ductless') | (res['Technology'] == 'Heat Pump')|(res['Technology'] == 'Gas Furnace')]\n",
    "res2 = res[(res['Technology'] == 'Heat Pump') | (res['Technology'] == 'Central Air Conditioning - Condenser')]\n",
    "res1=res1[res1['HeatingEfficiency'] != 'UNDEFINED']\n",
    "res_heating = res1.groupby(['Year','Technology','HeatingEfficiency'])['Total'].sum().reset_index()\n",
    "res_cooling = res2.groupby(['Year','Technology','CoolingEfficiency'])['Total'].sum().reset_index()\n",
    "\n",
    "\n",
    "years = [2016, 2017, 2018, 2019, 2020]\n",
    "res_heat_eff_mix = pd.DataFrame()\n",
    "res_cool_eff_mix = pd.DataFrame()\n",
    "\n",
    "\n",
    "for y in years:\n",
    "    df3 = res_heating[res_heating['Year'] == y]\n",
    "    df4 = res_cooling[res_cooling['Year'] == y]\n",
    "   \n",
    "    ductless_total  = df3[df3['Technology'] == 'Heat Pump - Ductless']['Total'].sum()\n",
    "    hp_total        = df4[df4['Technology'] == 'Heat Pump']['Total'].sum()\n",
    "    furnace_total   = df3[df3['Technology'] == 'Gas Furnace']['Total'].sum()\n",
    "    cac_total       = df4[df4['Technology'] == 'Central Air Conditioning - Condenser']['Total'].sum()\n",
    "\n",
    "    df3.loc[df3['Technology'] == 'Heat Pump', 'pct_share']            = df3['Total'] / hp_total\n",
    "    df3.loc[df3['Technology'] == 'Heat Pump - Ductless', 'pct_share'] = df3['Total'] / ductless_total\n",
    "    df3.loc[df3['Technology'] == 'Gas Furnace', 'pct_share']          = df3['Total'] / furnace_total\n",
    "    \n",
    "    df4.loc[df4['Technology'] == 'Heat Pump', 'pct_share'] = df4['Total'] / hp_total\n",
    "    df4.loc[df4['Technology'] == 'Central Air Conditioning - Condenser', 'pct_share'] = df4['Total'] / cac_total\n",
    "    \n",
    "    res_heat_eff_mix = pd.concat([res_heat_eff_mix, df3], axis=0)\n",
    "    res_cool_eff_mix = pd.concat([res_cool_eff_mix, df4], axis=0)\n",
    "    \n",
    "res_heat_eff_mix.to_csv(\"Residential Heating Eff Mix (Weighted).csv\")\n",
    "res_cool_eff_mix.to_csv(\"Residential Cooling Eff Mix (Weighted).csv\")"
   ]
  },
  {
   "cell_type": "code",
   "execution_count": 23,
   "id": "ad705dd2",
   "metadata": {},
   "outputs": [
    {
     "data": {
      "text/html": [
       "<div>\n",
       "<style scoped>\n",
       "    .dataframe tbody tr th:only-of-type {\n",
       "        vertical-align: middle;\n",
       "    }\n",
       "\n",
       "    .dataframe tbody tr th {\n",
       "        vertical-align: top;\n",
       "    }\n",
       "\n",
       "    .dataframe thead th {\n",
       "        text-align: right;\n",
       "    }\n",
       "</style>\n",
       "<table border=\"1\" class=\"dataframe\">\n",
       "  <thead>\n",
       "    <tr style=\"text-align: right;\">\n",
       "      <th></th>\n",
       "      <th>Year</th>\n",
       "      <th>Sector</th>\n",
       "      <th>Technology</th>\n",
       "      <th>HeatingEfficiency</th>\n",
       "      <th>CoolingEfficiency</th>\n",
       "      <th>Total</th>\n",
       "      <th>Reported Quantity</th>\n",
       "      <th>Extrapolated Quantity</th>\n",
       "      <th>CZ</th>\n",
       "    </tr>\n",
       "  </thead>\n",
       "  <tbody>\n",
       "    <tr>\n",
       "      <th>8</th>\n",
       "      <td>2016</td>\n",
       "      <td>Residential</td>\n",
       "      <td>Central Air Conditioning - Condenser</td>\n",
       "      <td>UNDEFINED</td>\n",
       "      <td>SEER 10-11.99</td>\n",
       "      <td>849.0</td>\n",
       "      <td>849.000000</td>\n",
       "      <td>0.000000</td>\n",
       "      <td></td>\n",
       "    </tr>\n",
       "    <tr>\n",
       "      <th>9</th>\n",
       "      <td>2016</td>\n",
       "      <td>Residential</td>\n",
       "      <td>Central Air Conditioning - Condenser</td>\n",
       "      <td>UNDEFINED</td>\n",
       "      <td>SEER 12-13.99</td>\n",
       "      <td>45468.0</td>\n",
       "      <td>37631.340203</td>\n",
       "      <td>7836.659797</td>\n",
       "      <td></td>\n",
       "    </tr>\n",
       "    <tr>\n",
       "      <th>10</th>\n",
       "      <td>2016</td>\n",
       "      <td>Residential</td>\n",
       "      <td>Central Air Conditioning - Condenser</td>\n",
       "      <td>UNDEFINED</td>\n",
       "      <td>SEER 14-15.99</td>\n",
       "      <td>59487.0</td>\n",
       "      <td>38008.430224</td>\n",
       "      <td>21478.569776</td>\n",
       "      <td></td>\n",
       "    </tr>\n",
       "    <tr>\n",
       "      <th>11</th>\n",
       "      <td>2016</td>\n",
       "      <td>Residential</td>\n",
       "      <td>Central Air Conditioning - Condenser</td>\n",
       "      <td>UNDEFINED</td>\n",
       "      <td>SEER 16 or above</td>\n",
       "      <td>8345.0</td>\n",
       "      <td>5351.048246</td>\n",
       "      <td>2993.951754</td>\n",
       "      <td></td>\n",
       "    </tr>\n",
       "    <tr>\n",
       "      <th>13</th>\n",
       "      <td>2016</td>\n",
       "      <td>Residential</td>\n",
       "      <td>Gas Furnace</td>\n",
       "      <td>80% up to 89.99% AFUE</td>\n",
       "      <td>UNDEFINED</td>\n",
       "      <td>50328.0</td>\n",
       "      <td>40254.565441</td>\n",
       "      <td>10073.434559</td>\n",
       "      <td></td>\n",
       "    </tr>\n",
       "    <tr>\n",
       "      <th>...</th>\n",
       "      <td>...</td>\n",
       "      <td>...</td>\n",
       "      <td>...</td>\n",
       "      <td>...</td>\n",
       "      <td>...</td>\n",
       "      <td>...</td>\n",
       "      <td>...</td>\n",
       "      <td>...</td>\n",
       "      <td>...</td>\n",
       "    </tr>\n",
       "    <tr>\n",
       "      <th>104</th>\n",
       "      <td>2020</td>\n",
       "      <td>Non-residential</td>\n",
       "      <td>Unitary Large Equipment</td>\n",
       "      <td>UNDEFINED</td>\n",
       "      <td>UNDEFINED</td>\n",
       "      <td>2115.0</td>\n",
       "      <td>305.000000</td>\n",
       "      <td>1810.000000</td>\n",
       "      <td>OR/WA</td>\n",
       "    </tr>\n",
       "    <tr>\n",
       "      <th>105</th>\n",
       "      <td>2020</td>\n",
       "      <td>Residential</td>\n",
       "      <td>Electric Furnace</td>\n",
       "      <td>UNDEFINED</td>\n",
       "      <td>UNDEFINED</td>\n",
       "      <td>1478.0</td>\n",
       "      <td>1478.000000</td>\n",
       "      <td>0.000000</td>\n",
       "      <td>OR/WA</td>\n",
       "    </tr>\n",
       "    <tr>\n",
       "      <th>106</th>\n",
       "      <td>2020</td>\n",
       "      <td>Residential</td>\n",
       "      <td>Gas Packaged Unit</td>\n",
       "      <td>UNDEFINED</td>\n",
       "      <td>UNDEFINED</td>\n",
       "      <td>2718.0</td>\n",
       "      <td>427.000000</td>\n",
       "      <td>2291.000000</td>\n",
       "      <td>OR/WA</td>\n",
       "    </tr>\n",
       "    <tr>\n",
       "      <th>107</th>\n",
       "      <td>2020</td>\n",
       "      <td>Residential</td>\n",
       "      <td>Heat Pump - Air Source, Single Packaged</td>\n",
       "      <td>UNDEFINED</td>\n",
       "      <td>UNDEFINED</td>\n",
       "      <td>715.0</td>\n",
       "      <td>146.000000</td>\n",
       "      <td>569.000000</td>\n",
       "      <td>OR/WA</td>\n",
       "    </tr>\n",
       "    <tr>\n",
       "      <th>108</th>\n",
       "      <td>2020</td>\n",
       "      <td>Residential</td>\n",
       "      <td>Variable Speed Mini-Split &amp; Multi-Split Air Co...</td>\n",
       "      <td>UNDEFINED</td>\n",
       "      <td>UNDEFINED</td>\n",
       "      <td>1133.0</td>\n",
       "      <td>299.000000</td>\n",
       "      <td>834.000000</td>\n",
       "      <td>OR/WA</td>\n",
       "    </tr>\n",
       "  </tbody>\n",
       "</table>\n",
       "<p>235 rows × 9 columns</p>\n",
       "</div>"
      ],
      "text/plain": [
       "     Year           Sector                                         Technology  \\\n",
       "8    2016      Residential               Central Air Conditioning - Condenser   \n",
       "9    2016      Residential               Central Air Conditioning - Condenser   \n",
       "10   2016      Residential               Central Air Conditioning - Condenser   \n",
       "11   2016      Residential               Central Air Conditioning - Condenser   \n",
       "13   2016      Residential                                        Gas Furnace   \n",
       "..    ...              ...                                                ...   \n",
       "104  2020  Non-residential                            Unitary Large Equipment   \n",
       "105  2020      Residential                                   Electric Furnace   \n",
       "106  2020      Residential                                  Gas Packaged Unit   \n",
       "107  2020      Residential            Heat Pump - Air Source, Single Packaged   \n",
       "108  2020      Residential  Variable Speed Mini-Split & Multi-Split Air Co...   \n",
       "\n",
       "         HeatingEfficiency CoolingEfficiency    Total  Reported Quantity  \\\n",
       "8                UNDEFINED     SEER 10-11.99    849.0         849.000000   \n",
       "9                UNDEFINED     SEER 12-13.99  45468.0       37631.340203   \n",
       "10               UNDEFINED     SEER 14-15.99  59487.0       38008.430224   \n",
       "11               UNDEFINED  SEER 16 or above   8345.0        5351.048246   \n",
       "13   80% up to 89.99% AFUE         UNDEFINED  50328.0       40254.565441   \n",
       "..                     ...               ...      ...                ...   \n",
       "104              UNDEFINED         UNDEFINED   2115.0         305.000000   \n",
       "105              UNDEFINED         UNDEFINED   1478.0        1478.000000   \n",
       "106              UNDEFINED         UNDEFINED   2718.0         427.000000   \n",
       "107              UNDEFINED         UNDEFINED    715.0         146.000000   \n",
       "108              UNDEFINED         UNDEFINED   1133.0         299.000000   \n",
       "\n",
       "     Extrapolated Quantity     CZ  \n",
       "8                 0.000000         \n",
       "9              7836.659797         \n",
       "10            21478.569776         \n",
       "11             2993.951754         \n",
       "13            10073.434559         \n",
       "..                     ...    ...  \n",
       "104            1810.000000  OR/WA  \n",
       "105               0.000000  OR/WA  \n",
       "106            2291.000000  OR/WA  \n",
       "107             569.000000  OR/WA  \n",
       "108             834.000000  OR/WA  \n",
       "\n",
       "[235 rows x 9 columns]"
      ]
     },
     "execution_count": 23,
     "metadata": {},
     "output_type": "execute_result"
    }
   ],
   "source": [
    "all_rows_weighted"
   ]
  },
  {
   "cell_type": "code",
   "execution_count": 24,
   "id": "b85315a1",
   "metadata": {},
   "outputs": [
    {
     "data": {
      "text/plain": [
       "2496377.0"
      ]
     },
     "execution_count": 24,
     "metadata": {},
     "output_type": "execute_result"
    }
   ],
   "source": [
    "weighted_quantites['Total'].sum()"
   ]
  },
  {
   "cell_type": "code",
   "execution_count": null,
   "id": "b9087edb",
   "metadata": {},
   "outputs": [],
   "source": []
  },
  {
   "cell_type": "code",
   "execution_count": null,
   "id": "a1d4ca9e",
   "metadata": {},
   "outputs": [],
   "source": []
  },
  {
   "cell_type": "code",
   "execution_count": null,
   "id": "b1233154",
   "metadata": {},
   "outputs": [],
   "source": []
  },
  {
   "cell_type": "code",
   "execution_count": null,
   "id": "acf3e76d",
   "metadata": {},
   "outputs": [],
   "source": []
  }
 ],
 "metadata": {
  "kernelspec": {
   "display_name": "Python 3 (ipykernel)",
   "language": "python",
   "name": "python3"
  },
  "language_info": {
   "codemirror_mode": {
    "name": "ipython",
    "version": 3
   },
   "file_extension": ".py",
   "mimetype": "text/x-python",
   "name": "python",
   "nbconvert_exporter": "python",
   "pygments_lexer": "ipython3",
   "version": "3.9.7"
  }
 },
 "nbformat": 4,
 "nbformat_minor": 5
}
